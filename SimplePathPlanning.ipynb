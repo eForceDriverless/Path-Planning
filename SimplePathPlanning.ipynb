{
  "nbformat": 4,
  "nbformat_minor": 0,
  "metadata": {
    "colab": {
      "name": "SimplePathPlanning.ipynb",
      "provenance": [],
      "collapsed_sections": []
    },
    "kernelspec": {
      "name": "python3",
      "display_name": "Python 3"
    }
  },
  "cells": [
    {
      "cell_type": "code",
      "metadata": {
        "id": "hJMC4Ly1GfR6",
        "colab_type": "code",
        "colab": {}
      },
      "source": [
        "import numpy as np\n",
        "import matplotlib.pyplot as plt\n",
        "from IPython.core.debugger import set_trace"
      ],
      "execution_count": 0,
      "outputs": []
    },
    {
      "cell_type": "markdown",
      "metadata": {
        "id": "MH9y_YvBGwgx",
        "colab_type": "text"
      },
      "source": [
        "# Generate Track"
      ]
    },
    {
      "cell_type": "code",
      "metadata": {
        "id": "G72UwQKwMSRJ",
        "colab_type": "code",
        "colab": {}
      },
      "source": [
        "b_cones = np.load(\"blue_cones.npy\")\n",
        "y_cones = np.load(\"yellow_cones.npy\")"
      ],
      "execution_count": 0,
      "outputs": []
    },
    {
      "cell_type": "code",
      "metadata": {
        "id": "61x3PSpGQ-tK",
        "colab_type": "code",
        "outputId": "6879b3aa-5908-42ea-d305-d6450d1482a1",
        "colab": {
          "base_uri": "https://localhost:8080/",
          "height": 204
        }
      },
      "source": [
        "b_cones"
      ],
      "execution_count": 0,
      "outputs": [
        {
          "output_type": "execute_result",
          "data": {
            "text/plain": [
              "array([[8.70967742, 0.98951258],\n",
              "       [8.64919355, 2.26647829],\n",
              "       [8.42741935, 3.7064609 ],\n",
              "       [8.125     , 4.92908765],\n",
              "       [7.64112903, 5.8256806 ],\n",
              "       [7.05645161, 6.50491768],\n",
              "       [6.14919355, 7.02113786],\n",
              "       [5.26209677, 7.21132424],\n",
              "       [4.39516129, 7.23849372],\n",
              "       [3.56854839, 7.12981579],\n",
              "       [2.5       , 6.66793458]])"
            ]
          },
          "metadata": {
            "tags": []
          },
          "execution_count": 3
        }
      ]
    },
    {
      "cell_type": "code",
      "metadata": {
        "id": "pRwih0HxMdX1",
        "colab_type": "code",
        "colab": {}
      },
      "source": [
        "np.random.shuffle(b_cones)\n",
        "np.random.shuffle(y_cones)"
      ],
      "execution_count": 0,
      "outputs": []
    },
    {
      "cell_type": "code",
      "metadata": {
        "id": "wtr581-nMpt8",
        "colab_type": "code",
        "colab": {}
      },
      "source": [
        "start = np.array([8,0])"
      ],
      "execution_count": 0,
      "outputs": []
    },
    {
      "cell_type": "code",
      "metadata": {
        "id": "CVJ815DmGoBN",
        "colab_type": "code",
        "outputId": "adb690e7-6939-4de7-e5e1-19bdffdd3134",
        "colab": {
          "base_uri": "https://localhost:8080/",
          "height": 613
        }
      },
      "source": [
        "plt.figure(1, figsize=(20,10))\n",
        "plt.xlim([0, 10])\n",
        "plt.ylim([0, 10])\n",
        "plt.plot(b_cones[:,0], b_cones[:,1], \"X\", color=\"blue\")\n",
        "plt.plot(y_cones[:,0], y_cones[:,1], \"X\", color=\"yellow\")\n",
        "plt.plot(start[0], start[1], \"o\", color=\"red\")\n"
      ],
      "execution_count": 0,
      "outputs": [
        {
          "output_type": "execute_result",
          "data": {
            "text/plain": [
              "[<matplotlib.lines.Line2D at 0x7facebd59320>]"
            ]
          },
          "metadata": {
            "tags": []
          },
          "execution_count": 6
        },
        {
          "output_type": "display_data",
          "data": {
            "image/png": "[encoded data removed]",
            "text/plain": [
              "<Figure size 1440x720 with 1 Axes>"
            ]
          },
          "metadata": {
            "tags": []
          }
        }
      ]
    },
    {
      "cell_type": "markdown",
      "metadata": {
        "id": "PUJTGQVfNlSb",
        "colab_type": "text"
      },
      "source": [
        "# Algorithm\n",
        "## Initialize loop\n",
        "1) find first blue (resp. yellow) cone\n",
        "\\begin{equation*}\n",
        "    b_1 = argmin_{b \\in B} ||s - b|| \\\\\n",
        "    y_1 = argmin_{y \\in Y} ||s - y|| \n",
        "\\end{equation*}\n",
        "where $B \\ (\\text{resp.} \\ Y)$ is set of all detected blue cones (resp. yellow cones).\n",
        "\n",
        "2) connect firsts cones by line and parametrize this line (line in 2D is $     f(x) = k\\cdot x + c$) so\n",
        "\n",
        "\\begin{equation*}\n",
        "    b_1[1] = k\\cdot b_1[0] + c\\\\\n",
        "    y_1[1] = k\\cdot y_1[0] + c\\\\\n",
        "    \\text{that means}\\\\\n",
        "    k = \\frac{b_1[1]-y_1[1]}{b_1[0]-y_1[0]} \\ \\text{and} \\ c = b_1[1] - k\\cdot b_1[0]\n",
        "\\end{equation*}\n",
        "\n",
        "We assume that in first loop it is also normal line to car's direction.\n",
        "\n",
        "3) new start point is center between cones $\\vec{s_0} = (s_{0}[0] ,s_{0}[1]) $\n",
        "\\begin{equation*}\n",
        "    s_{0}[0] = \\frac{b_{1}[0]-y_{1}[0]}{2},\\\\\n",
        "    s_{0}[1] = \\frac{b_{1}[1]-y_{1}[1]}{2}\n",
        "\\end{equation*}\n",
        "\n",
        "\n",
        "## common loop\n",
        "1) find first blue (resp. yellow) cone\n",
        "\\begin{equation*}\n",
        "    b_2 = argmin_{b \\in \\hat{B}} ||s - b|| \\\\\n",
        "    y_2 = argmin_{y \\in \\hat{Y}} ||s - y|| \n",
        "\\end{equation*}\n",
        "where $\\hat{B} = \\{b \\in B \\text{ and }  \\& \\ sign(b[1]-k\\cdot b[0] - c)=1\\} \\ (\\text{resp.} \\ \\hat{Y})$ is set of all detected blue cones (resp. yellow cones) in front of car.\n",
        "\n",
        "2) find center (new start point) $\\vec{s_1} = (s_{1}[0] ,s_{1}[1]) $\n",
        "\\begin{equation*}\n",
        "    s_{1}[0] = \\frac{b_{2}[0]-y_{2}[0]}{2}+ y_2[0], \\\\\n",
        "    s_{1}[1] = \\frac{b_{2}[1]-y_{2}[1]}{2}+ y_2[1]\n",
        "\\end{equation*}\n",
        "\n",
        "3) find direction $\\vec{s_1}-\\vec{s_0}$\n",
        "\\begin{equation*}\n",
        "    s_1[1] = k\\cdot s_1[0] + c\\\\\n",
        "    s_0[1] = k\\cdot s_0[0] + c\\\\\n",
        "    \\text{that means}\\\\\n",
        "    k = \\frac{s_1[1]-s_0[1]}{s_1[0]-s_0[0]} \\ \\text{  and  } \\ c = s_1[1] - k\\cdot s_1[0]\n",
        "\\end{equation*}\n",
        "\n",
        "4) find normal line to direction in point $\\vec{s_1}$\n",
        "\\begin{equation*}\n",
        "    k_{new} = -\\frac{1}{k} \\text{  and  } c_{new} = s_1[1] - k_{new}\\cdot s_1[0],\\\\\n",
        "    \\text{normal line is than }\\\\\n",
        "    f(x) = k_{new}\\cdot x + c_{new}\n",
        "\\end{equation*}\n",
        "\n",
        "## back to step one\n"
      ]
    },
    {
      "cell_type": "markdown",
      "metadata": {
        "id": "uHMpKMl6JaMa",
        "colab_type": "text"
      },
      "source": [
        "# Algorithm"
      ]
    },
    {
      "cell_type": "code",
      "metadata": {
        "id": "9LvtOlVpJc9r",
        "colab_type": "code",
        "colab": {}
      },
      "source": [
        "class pathplanning(object):\n",
        "    def __init__(self, start_point):\n",
        "        self.sorted_blue_cones = []\n",
        "        self.sorted_yellow_cones = []\n",
        "        self.start_points = [start_point]\n",
        "        # parameters of normal line\n",
        "        self.k = None\n",
        "        self.c = None\n",
        "\n",
        "    def reset(self, start_point):\n",
        "        self.sorted_blue_cones = []\n",
        "        self.sorted_yellow_cones = []\n",
        "        self.start_points = [start_point]\n",
        "        # parameters of normal line\n",
        "        self.k = None\n",
        "        self.c = None\n",
        "\n",
        "    def is_already_added(self, point):\n",
        "        np.all(np.isin(point, self.sorted_yellow_cones))\n",
        "        return (np.all(np.isin(point, self.sorted_yellow_cones)) or np.all(np.isin(point, self.sorted_blue_cones)))\n",
        "\n",
        "    def points_above_normal(self, points):\n",
        "        return points[np.sign(points[:,1] - self.k * points[:,0] - self.c)==1]\n",
        "\n",
        "    def find_closest_one(self, points):\n",
        "        closest_index = np.argmin(np.linalg.norm(points-self.start_points[-1], axis=1))\n",
        "        closest_cone = points[closest_index]\n",
        "        return closest_cone\n",
        "\n",
        "    def calculate_center(self, pointB, pointY):\n",
        "        return np.array([(pointB[0]-pointY[0])/2 + pointY[0], (pointB[1]-pointY[1])/2 + pointY[1]])\n",
        "    \n",
        "    def return_stack(self, object_name):\n",
        "        if object_name == \"yellow cones\":\n",
        "            return np.vstack(self.sorted_yellow_cones)\n",
        "        elif object_name == \"blue cones\":\n",
        "            return np.vstack(self.sorted_blue_cones)\n",
        "        elif object_name == \"centers\":\n",
        "            return np.vstack(self.start_points)           \n",
        "\n",
        "    def find_line_parameters(self, pointB, pointY, normal=True):\n",
        "        k = (pointB[1]-pointY[1])/(pointB[0]-pointY[0])\n",
        "        self.k = -1/k if normal else k \n",
        "        c = pointB[1] - self.k*pointB[0]\n",
        "        self.c = c\n",
        "\n",
        "    def find_next_center(self, pointsB, pointsY, step=None, verbose=True):\n",
        "        self.find_line_parameters(self.start_points[-1], self.start_points[-2])\n",
        "        B_hat = self.points_above_normal(pointsB)\n",
        "        Y_hat = self.points_above_normal(pointsY)\n",
        "        #set_trace()\n",
        "        b = self.find_closest_one(B_hat)\n",
        "        y = self.find_closest_one(Y_hat)\n",
        "\n",
        "        if not self.is_already_added(b):\n",
        "            self.sorted_blue_cones.append(b)\n",
        "        if not self.is_already_added(y):\n",
        "            self.sorted_yellow_cones.append(y)\n",
        "\n",
        "        s = self.calculate_center(b, y)\n",
        "        self.start_points.append(s)\n",
        "        if verbose:\n",
        "            if step != None:\n",
        "                print(\"Step {} done!\".format(step))\n",
        "            else:\n",
        "                print(\"Step done!\")\n",
        "\n",
        "    def find_path(self, B, Y, n_steps, verbose=True):\n",
        "        if n_steps < 1:\n",
        "            raise ValueError(\"Number of steps must be positive!!\")\n",
        "        \"\"\"\n",
        "            B is set of all blue cones\n",
        "            Y is set of all yellow cones\n",
        "        \"\"\"\n",
        "        # initializing loop\n",
        "        # step 1)\n",
        "        b_0 = self.find_closest_one(B)\n",
        "        y_0 = self.find_closest_one(Y)\n",
        "        self.sorted_blue_cones.append(b_0)\n",
        "        self.sorted_yellow_cones.append(y_0)\n",
        "\n",
        "        s_1 = self.calculate_center(b_0, y_0)\n",
        "        self.start_points.append(s_1)\n",
        "        if verbose:\n",
        "            print(\"Step 1 done!\")\n",
        "\n",
        "        # step 2)\n",
        "        if n_steps > 1:\n",
        "            self.find_line_parameters(b_0, y_0, normal=False) # special case of separate line for 2nd step\n",
        "            B_hat = self.points_above_normal(B)\n",
        "            Y_hat = self.points_above_normal(Y)\n",
        "            #set_trace()\n",
        "            b_1 = self.find_closest_one(B_hat)\n",
        "            y_1 = self.find_closest_one(Y_hat)\n",
        "            self.sorted_blue_cones.append(b_1)\n",
        "            self.sorted_yellow_cones.append(y_1)\n",
        "\n",
        "            s_2 = self.calculate_center(b_1, y_1)\n",
        "            self.start_points.append(s_2)\n",
        "            if verbose:\n",
        "                print(\"Step 2 done!\")\n",
        "\n",
        "        #every other step\n",
        "        if n_steps >2:\n",
        "            for step in range(n_steps-2):\n",
        "                self.find_next_center(B, Y, step+2, verbose=verbose)\n"
      ],
      "execution_count": 0,
      "outputs": []
    },
    {
      "cell_type": "markdown",
      "metadata": {
        "id": "6mBLIme5N9y-",
        "colab_type": "text"
      },
      "source": [
        "# testy"
      ]
    },
    {
      "cell_type": "code",
      "metadata": {
        "id": "ycz8uQ8VN9A2",
        "colab_type": "code",
        "colab": {}
      },
      "source": [
        "path = pathplanning(np.array([8,0]))"
      ],
      "execution_count": 0,
      "outputs": []
    },
    {
      "cell_type": "code",
      "metadata": {
        "id": "xhQ-AmILN9I-",
        "colab_type": "code",
        "outputId": "dd2f0217-fc99-4e60-b38e-11f03c91ba45",
        "colab": {
          "base_uri": "https://localhost:8080/",
          "height": 102
        }
      },
      "source": [
        "vars(path)"
      ],
      "execution_count": 0,
      "outputs": [
        {
          "output_type": "execute_result",
          "data": {
            "text/plain": [
              "{'c': None,\n",
              " 'k': None,\n",
              " 'sorted_blue_cones': [],\n",
              " 'sorted_yellow_cones': [],\n",
              " 'start_points': [array([8, 0])]}"
            ]
          },
          "metadata": {
            "tags": []
          },
          "execution_count": 9
        }
      ]
    },
    {
      "cell_type": "code",
      "metadata": {
        "id": "lwonF8LnN9Qd",
        "colab_type": "code",
        "outputId": "53256434-2dc8-4fb5-8278-1d5de641f859",
        "colab": {
          "base_uri": "https://localhost:8080/",
          "height": 34
        }
      },
      "source": [
        "path.find_path(B=b_cones, Y=y_cones, n_steps=1, verbose=True)"
      ],
      "execution_count": 0,
      "outputs": [
        {
          "output_type": "stream",
          "text": [
            "Step 1 done!\n"
          ],
          "name": "stdout"
        }
      ]
    },
    {
      "cell_type": "code",
      "metadata": {
        "id": "KHIxjHT9N9N0",
        "colab_type": "code",
        "outputId": "69e27bed-bcf6-4e9c-db7d-1aadbdb45444",
        "colab": {
          "base_uri": "https://localhost:8080/",
          "height": 102
        }
      },
      "source": [
        "vars(path)"
      ],
      "execution_count": 0,
      "outputs": [
        {
          "output_type": "execute_result",
          "data": {
            "text/plain": [
              "{'c': None,\n",
              " 'k': None,\n",
              " 'sorted_blue_cones': [array([8.70967742, 0.98951258])],\n",
              " 'sorted_yellow_cones': [array([7.41935484, 0.93517361])],\n",
              " 'start_points': [array([8, 0]), array([8.06451613, 0.9623431 ])]}"
            ]
          },
          "metadata": {
            "tags": []
          },
          "execution_count": 11
        }
      ]
    },
    {
      "cell_type": "code",
      "metadata": {
        "id": "5Qydor3JOyE7",
        "colab_type": "code",
        "colab": {}
      },
      "source": [
        "path.reset(np.array([8,0]))"
      ],
      "execution_count": 0,
      "outputs": []
    },
    {
      "cell_type": "code",
      "metadata": {
        "id": "bqnIanceOyOH",
        "colab_type": "code",
        "outputId": "d7aa2baa-5a77-413f-ad81-e60f7b639c5a",
        "colab": {
          "base_uri": "https://localhost:8080/",
          "height": 102
        }
      },
      "source": [
        "vars(path)"
      ],
      "execution_count": 0,
      "outputs": [
        {
          "output_type": "execute_result",
          "data": {
            "text/plain": [
              "{'c': None,\n",
              " 'k': None,\n",
              " 'sorted_blue_cones': [],\n",
              " 'sorted_yellow_cones': [],\n",
              " 'start_points': [array([8, 0])]}"
            ]
          },
          "metadata": {
            "tags": []
          },
          "execution_count": 13
        }
      ]
    },
    {
      "cell_type": "code",
      "metadata": {
        "id": "UeaF4aFPOl4e",
        "colab_type": "code",
        "outputId": "11ec4015-e5b1-4dac-e003-30cb90608d86",
        "colab": {
          "base_uri": "https://localhost:8080/",
          "height": 51
        }
      },
      "source": [
        "path.find_path(B=b_cones, Y=y_cones, n_steps=2, verbose=True)"
      ],
      "execution_count": 0,
      "outputs": [
        {
          "output_type": "stream",
          "text": [
            "Step 1 done!\n",
            "Step 2 done!\n"
          ],
          "name": "stdout"
        }
      ]
    },
    {
      "cell_type": "code",
      "metadata": {
        "id": "Itb3BFnWOmAw",
        "colab_type": "code",
        "outputId": "71e4fc79-bc3a-4f18-ebb3-7e689d7999fd",
        "colab": {
          "base_uri": "https://localhost:8080/",
          "height": 170
        }
      },
      "source": [
        "vars(path)"
      ],
      "execution_count": 0,
      "outputs": [
        {
          "output_type": "execute_result",
          "data": {
            "text/plain": [
              "{'c': 0.6227245557789521,\n",
              " 'k': 0.04211269901646438,\n",
              " 'sorted_blue_cones': [array([8.70967742, 0.98951258]),\n",
              "  array([8.64919355, 2.26647829])],\n",
              " 'sorted_yellow_cones': [array([7.41935484, 0.93517361]),\n",
              "  array([7.41935484, 2.04912243])],\n",
              " 'start_points': [array([8, 0]),\n",
              "  array([8.06451613, 0.9623431 ]),\n",
              "  array([8.03427419, 2.15780036])]}"
            ]
          },
          "metadata": {
            "tags": []
          },
          "execution_count": 15
        }
      ]
    },
    {
      "cell_type": "code",
      "metadata": {
        "id": "ap8z65ilQY89",
        "colab_type": "code",
        "outputId": "629f4572-d906-4d65-c1b7-0dfc557615c8",
        "colab": {
          "base_uri": "https://localhost:8080/",
          "height": 68
        }
      },
      "source": [
        "starts = np.vstack(path.start_points)\n",
        "starts"
      ],
      "execution_count": 0,
      "outputs": [
        {
          "output_type": "execute_result",
          "data": {
            "text/plain": [
              "array([[8.        , 0.        ],\n",
              "       [8.06451613, 0.9623431 ],\n",
              "       [8.03427419, 2.15780036]])"
            ]
          },
          "metadata": {
            "tags": []
          },
          "execution_count": 16
        }
      ]
    },
    {
      "cell_type": "code",
      "metadata": {
        "id": "J9_FdfJjOmIP",
        "colab_type": "code",
        "outputId": "fc06c85a-7baf-4eff-cb24-de62f944bf48",
        "colab": {
          "base_uri": "https://localhost:8080/",
          "height": 613
        }
      },
      "source": [
        "plt.figure(1, figsize=(20,10))\n",
        "plt.xlim([0, 10])\n",
        "plt.ylim([0, 10])\n",
        "plt.plot(b_cones[:,0], b_cones[:,1], \"X\", color=\"blue\")\n",
        "plt.plot(y_cones[:,0], y_cones[:,1], \"X\", color=\"yellow\")\n",
        "plt.plot(starts[:,0],starts[:,1], \"o\", color=\"red\")\n",
        "#axis = np.linspace(0, 10)\n",
        "#plt.plot(axis, k*axis+c, color=\"green\")\n",
        "#plt.plot(new_start[0], new_start[1], \"o\", color=\"red\")"
      ],
      "execution_count": 0,
      "outputs": [
        {
          "output_type": "execute_result",
          "data": {
            "text/plain": [
              "[<matplotlib.lines.Line2D at 0x7face9477be0>]"
            ]
          },
          "metadata": {
            "tags": []
          },
          "execution_count": 17
        },
        {
          "output_type": "display_data",
          "data": {
            "image/png": "[encoded data removed]",
            "text/plain": [
              "<Figure size 1440x720 with 1 Axes>"
            ]
          },
          "metadata": {
            "tags": []
          }
        }
      ]
    },
    {
      "cell_type": "code",
      "metadata": {
        "id": "ddZ9npAIOmQg",
        "colab_type": "code",
        "colab": {}
      },
      "source": [
        "path.reset(np.array([8,0]))"
      ],
      "execution_count": 0,
      "outputs": []
    },
    {
      "cell_type": "code",
      "metadata": {
        "id": "ozblezSKOmXp",
        "colab_type": "code",
        "outputId": "8a30e96c-74df-4fb3-cc12-8b4d30c34e79",
        "colab": {
          "base_uri": "https://localhost:8080/",
          "height": 306
        }
      },
      "source": [
        "path.find_path(B=b_cones, Y=y_cones, n_steps=17, verbose=True)"
      ],
      "execution_count": 0,
      "outputs": [
        {
          "output_type": "stream",
          "text": [
            "Step 1 done!\n",
            "Step 2 done!\n",
            "Step 2 done!\n",
            "Step 3 done!\n",
            "Step 4 done!\n",
            "Step 5 done!\n",
            "Step 6 done!\n",
            "Step 7 done!\n",
            "Step 8 done!\n",
            "Step 9 done!\n",
            "Step 10 done!\n",
            "Step 11 done!\n",
            "Step 12 done!\n",
            "Step 13 done!\n",
            "Step 14 done!\n",
            "Step 15 done!\n",
            "Step 16 done!\n"
          ],
          "name": "stdout"
        }
      ]
    },
    {
      "cell_type": "code",
      "metadata": {
        "id": "Q-XcNaY3WBgX",
        "colab_type": "code",
        "outputId": "8007a1b2-b0fb-4d1d-cec2-6728cc261e3a",
        "colab": {
          "base_uri": "https://localhost:8080/",
          "height": 34
        }
      },
      "source": [
        "path.k"
      ],
      "execution_count": 0,
      "outputs": [
        {
          "output_type": "execute_result",
          "data": {
            "text/plain": [
              "11.130846774193365"
            ]
          },
          "metadata": {
            "tags": []
          },
          "execution_count": 69
        }
      ]
    },
    {
      "cell_type": "code",
      "metadata": {
        "id": "5qpLj-0kWENR",
        "colab_type": "code",
        "outputId": "e8bf877f-fb45-42cc-9169-c0a4354a7205",
        "colab": {
          "base_uri": "https://localhost:8080/",
          "height": 34
        }
      },
      "source": [
        "path.c"
      ],
      "execution_count": 0,
      "outputs": [
        {
          "output_type": "execute_result",
          "data": {
            "text/plain": [
              "-40.57384073486158"
            ]
          },
          "metadata": {
            "tags": []
          },
          "execution_count": 70
        }
      ]
    },
    {
      "cell_type": "code",
      "metadata": {
        "id": "LdreVxXLv0C5",
        "colab_type": "code",
        "colab": {}
      },
      "source": [
        "starts = path.return_stack(object_name=\"centers\")\n",
        "Y_cones = path.return_stack(object_name=\"yellow cones\")\n",
        "B_cones = path.return_stack(object_name=\"blue cones\")"
      ],
      "execution_count": 0,
      "outputs": []
    },
    {
      "cell_type": "code",
      "metadata": {
        "id": "J-BSe8TvOmfP",
        "colab_type": "code",
        "outputId": "5d3836ed-4eea-4099-b4b7-923665dd5d18",
        "colab": {
          "base_uri": "https://localhost:8080/",
          "height": 613
        }
      },
      "source": [
        "plt.figure(1, figsize=(20,10))\n",
        "plt.xlim([0, 10])\n",
        "plt.ylim([0, 10])\n",
        "plt.plot(b_cones[:,0], b_cones[:,1], \"X\", color=\"blue\")\n",
        "plt.plot(y_cones[:,0], y_cones[:,1], \"X\", color=\"yellow\")\n",
        "plt.plot(B_cones[:,0], B_cones[:,1], color=\"lime\")\n",
        "plt.plot(Y_cones[:,0], Y_cones[:,1], color=\"orange\")\n",
        "plt.plot(starts[:,0],starts[:,1], \"o\", color=\"red\")"
      ],
      "execution_count": 0,
      "outputs": [
        {
          "output_type": "execute_result",
          "data": {
            "text/plain": [
              "[<matplotlib.lines.Line2D at 0x7face8f36518>]"
            ]
          },
          "metadata": {
            "tags": []
          },
          "execution_count": 72
        },
        {
          "output_type": "display_data",
          "data": {
            "image/png": "[encoded data removed]",
            "text/plain": [
              "<Figure size 1440x720 with 1 Axes>"
            ]
          },
          "metadata": {
            "tags": []
          }
        }
      ]
    },
    {
      "cell_type": "code",
      "metadata": {
        "id": "EL2eD0y1m984",
        "colab_type": "code",
        "colab": {}
      },
      "source": [
        ""
      ],
      "execution_count": 0,
      "outputs": []
    }
  ]
}